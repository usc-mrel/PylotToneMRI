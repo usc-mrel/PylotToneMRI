{
 "cells": [
  {
   "cell_type": "code",
   "execution_count": 2,
   "metadata": {},
   "outputs": [],
   "source": [
    "import ismrmrd\n",
    "import rtoml\n",
    "import os\n",
    "import fnmatch\n",
    "from scipy.io import loadmat\n",
    "import numpy as np\n",
    "import matplotlib.pyplot as plt\n",
    "\n",
    "\n",
    "# Read config\n",
    "with open('config.toml', 'r') as cf:\n",
    "    cfg = rtoml.load(cf)\n",
    "\n",
    "DATA_ROOT = cfg['DATA_ROOT']\n",
    "DATA_DIR = cfg['data_folder']\n",
    "raw_file = cfg['raw_file']\n",
    "\n",
    "data_dir_path = os.path.join(DATA_ROOT, DATA_DIR, 'raw/h5')\n",
    "if raw_file.isnumeric():\n",
    "    raw_file_ = fnmatch.filter(os.listdir(data_dir_path), f'meas_MID*{raw_file}*.h5')[0]\n",
    "    ismrmrd_data_fullpath = os.path.join(data_dir_path, raw_file_)\n",
    "elif raw_file.startswith('meas_MID'):\n",
    "    raw_file_ = raw_file\n",
    "    ismrmrd_data_fullpath = os.path.join(data_dir_path, raw_file)\n",
    "else:\n",
    "    print('Could not find the file. Exiting...')\n",
    "    exit(-1)\n"
   ]
  },
  {
   "cell_type": "code",
   "execution_count": 3,
   "metadata": {},
   "outputs": [
    {
     "name": "stdout",
     "output_type": "stream",
     "text": [
      "Reading /server/home/btasdelen/MRI_DATA/pilottone/vol0902_20240611/raw/h5/meas_MID00175_FID15580_pulseq2D_fire_spiralga_400mV_24MHz.h5...\n",
      "There are 14400 acquisitions in the file. Reading...\n",
      "There are 4427 waveforms in the dataset. Reading...\n"
     ]
    }
   ],
   "source": [
    "# Read the data in\n",
    "print(f'Reading {ismrmrd_data_fullpath}...')\n",
    "with ismrmrd.Dataset(ismrmrd_data_fullpath) as dset:\n",
    "\n",
    "    n_acq = dset.number_of_acquisitions()\n",
    "    print(f'There are {n_acq} acquisitions in the file. Reading...')\n",
    "\n",
    "    acq_list = []\n",
    "    for ii in range(n_acq):\n",
    "        acq_list.append(dset.read_acquisition(ii))\n",
    "\n",
    "    n_wf = dset.number_of_waveforms()\n",
    "    print(f'There are {n_wf} waveforms in the dataset. Reading...')\n",
    "\n",
    "    wf_list = []\n",
    "    for ii in range(n_wf):\n",
    "        wf_list.append(dset.read_waveform(ii))\n",
    "    \n",
    "    hdr = ismrmrd.xsd.CreateFromDocument(dset.read_xml_header())\n",
    "\n",
    "# get the k-space trajectory based on the metadata hash.\n",
    "traj_name = hdr.userParameters.userParameterString[1].value\n",
    "\n",
    "# load the .mat file containing the trajectory\n",
    "traj = loadmat(os.path.join(DATA_ROOT, DATA_DIR, traj_name), squeeze_me=True)\n",
    "\n",
    "n_unique_angles = int(traj['param']['repetitions'])\n",
    "\n",
    "kx = traj['kx'][:,:]\n",
    "ky = traj['ky'][:,:]\n",
    "dt = float(traj['param']['dt'])\n",
    "msize = int(10 * traj['param']['fov'] / traj['param']['spatial_resolution'])\n",
    "pre_discard = int(traj['param']['pre_discard'])\n",
    "w = traj['w']\n",
    "\n",
    "# Convert raw data and trajectory into convenient arrays\n",
    "ktraj = np.stack((kx, -ky), axis=2)\n",
    "# find max ktraj value\n",
    "kmax = np.max(np.abs(kx + 1j * ky))\n",
    "# swap 0 and 1 axes to make repetitions the first axis (repetitions, interleaves, 2)\n",
    "ktraj = np.swapaxes(ktraj, 0, 1)\n",
    "ktraj = 0.5 * (ktraj / kmax) * msize\n",
    "\n",
    "data = [arm.data[:,:] for arm in acq_list]\n",
    "dcf = np.tile(w[None, :], (n_acq, 1))\n",
    "coord = [ktraj[ii%n_unique_angles,:,:] for ii in range(n_acq)]\n",
    "\n",
    "data = np.array(data)\n",
    "data = np.transpose(data, axes=(2, 0, 1))\n",
    "coord = np.array(coord, dtype=np.float32)\n",
    "coord = np.transpose(coord, axes=(2, 1, 0))\n"
   ]
  },
  {
   "cell_type": "code",
   "execution_count": 4,
   "metadata": {},
   "outputs": [
    {
     "name": "stdout",
     "output_type": "stream",
     "text": [
      "Coils to be used as sniffers: ['Spine_18:1:S4T' 'Spine_18:1:S4S' 'Spine_18:1:S4P']\n"
     ]
    }
   ],
   "source": [
    "mri_coils = np.arange(15, dtype=int)\n",
    "sensing_coils = np.array([15, 16, 17], dtype=int)\n",
    "coil_name = []\n",
    "\n",
    "for clbl in hdr.acquisitionSystemInformation.coilLabel:\n",
    "    coil_name.append(clbl.coilName)\n",
    "\n",
    "coil_name = np.asarray(coil_name)\n",
    "\n",
    "print(f\"Coils to be used as sniffers: {coil_name[sensing_coils.astype(int)]}\")\n",
    "\n",
    "f0 = hdr.experimentalConditions.H1resonanceFrequency_Hz\n",
    "df = 1/(dt*data.shape[0])\n",
    "\n",
    "t_acq_start = acq_list[0].acquisition_time_stamp*2.5e-3 # [2.5ms] -> [s]\n",
    "t_acq_end = acq_list[-1].acquisition_time_stamp*2.5e-3\n",
    "time_acq = np.linspace(t_acq_start, t_acq_end, n_acq) # Interpolate for TR, as TR will not be a multiple of time resolution.\n",
    "time_pt = time_acq - t_acq_start\n",
    "samp_time_pt = time_acq[1] - time_acq[0]\n",
    "\n",
    "ksp_measured = data[:,:,mri_coils]\n",
    "ksp_sniffer  = data[:,:,sensing_coils]\n",
    "\n"
   ]
  },
  {
   "cell_type": "code",
   "execution_count": 62,
   "metadata": {},
   "outputs": [],
   "source": [
    "import numpy.typing as npt\n",
    "import math\n",
    "import scipy as sp\n",
    "\n",
    "def get_noise_mtx(line_grp: npt.NDArray[np.complex64], dk: list[int]):\n",
    "    \"\"\"\n",
    "    Creates the shifted noise matrix for a given line group and kernel sizes.\n",
    "\n",
    "    Args:\n",
    "        line_grp (numpy.ndarray): Line group data of shape (Nsamples, Nlines, Nchannels).\n",
    "        dk (list or tuple): Kernel size [d_kx, d_ky].\n",
    "\n",
    "    Returns:\n",
    "        numpy.ndarray: Noise matrix of shape ((Nsamples * Nlines) x (Nchannels * (d_kx * 2 + 1) * (d_ky * 2 + 1))).\n",
    "    \"\"\"\n",
    "    d_kx = dk[0]\n",
    "    d_ky = dk[1]\n",
    "\n",
    "    noise_mat = []\n",
    "    dfp = np.pad(line_grp, ((d_kx, d_kx), (d_ky, d_ky), (0, 0)), mode='constant')\n",
    "    if d_ky == 0:\n",
    "        end_slc = None\n",
    "    else:\n",
    "        end_slc = d_ky\n",
    "    for col_shift in range(-d_kx, d_kx + 1):\n",
    "        for lin_shift in range(-d_ky, d_ky + 1):\n",
    "            dftmp = np.roll(dfp, shift=(col_shift, lin_shift), axis=(0, 1))\n",
    "            cropped = dftmp[d_kx:-d_kx, d_ky:end_slc, :]\n",
    "            noise_mat.append(cropped)\n",
    "\n",
    "    noise_mat = np.concatenate(noise_mat, axis=2)\n",
    "    noise_mat = noise_mat.reshape(noise_mat.shape[0] * noise_mat.shape[1], -1)\n",
    "\n",
    "    return noise_mat\n",
    "\n",
    "def est_emi(signal_in: npt.NDArray[np.complex64], sniffer: npt.NDArray[np.complex64], line_grps: list[npt.NDArray], dk: list[int], w: npt.NDArray[np.float32]):\n",
    "\n",
    "    Ncol, Nlin, Nc = sniffer.shape\n",
    "    Ngrp = len(line_grps)\n",
    "    emi_hat = np.zeros((Ncol, Nlin), dtype=np.complex64)\n",
    "    kern = [] # np.zeros((Nc * (dk[0] * 2 + 1) * (dk[1] * 2 + 1), Ngrp))\n",
    "\n",
    "    for cwin, pe_rng in enumerate(line_grps):\n",
    "        # pe_rng is the range of lines in the current group\n",
    "        noise_mat = get_noise_mtx(sniffer[:, pe_rng, :], dk)\n",
    "\n",
    "        # Select grouped lines and flatten for inversion\n",
    "        init_mat_sub = np.reshape(signal_in[:, pe_rng], (Ncol * len(pe_rng), 1))\n",
    "        ww = np.reshape(w[:, pe_rng], (Ncol * len(pe_rng), 1))\n",
    "        \n",
    "        # Solving the linear system\n",
    "        kern_ ,_,_,_ = sp.linalg.lstsq(ww * noise_mat, ww * init_mat_sub, cond=None, check_finite=False)\n",
    "        kern.append(kern_)\n",
    "        # Put the solution back\n",
    "        emi_hat[:, pe_rng] = np.reshape(np.dot(noise_mat, kern_), (Ncol, len(pe_rng)))\n",
    "\n",
    "    return emi_hat\n",
    "\n",
    "def apply_editer(signal_in: npt.NDArray[np.complex64], sniffer: npt.NDArray[np.complex64], params, w) -> tuple[npt.NDArray[np.complex64], npt.NDArray[np.complex64]]:\n",
    "    max_lines = params['max_lines_per_group']\n",
    "    nlin = signal_in.shape[1]\n",
    "    if params['grouping_method'] == \"uniform\":\n",
    "        Ngrp = math.ceil(nlin/max_lines)\n",
    "        line_grps = []\n",
    "\n",
    "        for grp_i in range(Ngrp):\n",
    "            line_grps.append(np.arange(((grp_i)*max_lines), min(max_lines*(grp_i+1), nlin)))\n",
    "\n",
    "\n",
    "    emi_hat = est_emi(signal_in, sniffer, line_grps, params['dk'], w)\n",
    "    return signal_in-emi_hat, emi_hat\n",
    "    \n"
   ]
  },
  {
   "cell_type": "code",
   "execution_count": 57,
   "metadata": {},
   "outputs": [
    {
     "name": "stdout",
     "output_type": "stream",
     "text": [
      "Elapsed time: 35.043363094329834 seconds\n"
     ]
    }
   ],
   "source": [
    "from scipy.fftpack import fft, ifft\n",
    "import time\n",
    "from joblib import Parallel, delayed\n",
    "\n",
    "\n",
    "# ===============================================================\n",
    "# Prepare EDITER weights and inputs\n",
    "# ===============================================================\n",
    "start_time = time.time()\n",
    "\n",
    "ksp_emicorr = np.zeros(ksp_measured.shape, dtype=np.complex64)\n",
    "\n",
    "dk = [3, 0]\n",
    "\n",
    "w = np.concatenate((np.zeros((pre_discard, coord.shape[2])), np.sqrt(coord[0,:,:]**2 + coord[1,:,:]**2))).astype(np.float32)\n",
    "n_pe = round(1000 / hdr.sequenceParameters.TR[0])  # 4 * Nlines / Nrep\n",
    "\n",
    "editer_params = {\n",
    "    'grouping_method': \"uniform\",  # \"uniform\", \"corr_orig\"\n",
    "    'max_lines_per_group': n_pe,   # Max number of lines in a group\n",
    "    'dk': dk                     # Convolution kernel size in kx and ky directions \n",
    "}\n",
    "\n",
    "for ch_i in [0]:\n",
    "    ksp_emicorr[:, :, ch_i], _ = apply_editer(ksp_measured[:, :, ch_i], ksp_sniffer, editer_params, w)\n",
    "\n",
    "# chs = range(ksp_measured.shape[2])\n",
    "\n",
    "# def process_channel(ch):\n",
    "#     ksp_emicorr[:, :, ch], _ = apply_editer(ksp_measured[:, :, ch], ksp_sniffer, editer_params, w)\n",
    "#     return ksp_emicorr[:, :, ch]\n",
    "\n",
    "# results = Parallel(n_jobs=ksp_measured.shape[2], max_nbytes='1000M', mmap_mode=None)(delayed(process_channel)(ch) for ch in chs)\n",
    "\n",
    "# for ch, result in enumerate(results):\n",
    "#     ksp_emicorr[:, :, ch] = result\n",
    "\n",
    "print(f\"Elapsed time: {time.time() - start_time} seconds\")"
   ]
  },
  {
   "cell_type": "markdown",
   "metadata": {},
   "source": [
    "## Profiler"
   ]
  },
  {
   "cell_type": "code",
   "execution_count": 63,
   "metadata": {},
   "outputs": [
    {
     "name": "stdout",
     "output_type": "stream",
     "text": [
      "The line_profiler extension is already loaded. To reload it, use:\n",
      "  %reload_ext line_profiler\n"
     ]
    },
    {
     "name": "stdout",
     "output_type": "stream",
     "text": [
      "Timer unit: 1 s\n",
      "\n",
      "Total time: 32.7127 s\n",
      "File: /tmp/ipykernel_2484130/3952739013.py\n",
      "Function: est_emi at line 36\n",
      "\n",
      "Line #      Hits         Time  Per Hit   % Time  Line Contents\n",
      "==============================================================\n",
      "    36                                           def est_emi(signal_in: npt.NDArray[np.complex64], sniffer: npt.NDArray[np.complex64], line_grps: list[npt.NDArray], dk: list[int], w: npt.NDArray[np.float32]):\n",
      "    37                                           \n",
      "    38         1          0.0      0.0      0.0      Ncol, Nlin, Nc = sniffer.shape\n",
      "    39         1          0.0      0.0      0.0      Ngrp = len(line_grps)\n",
      "    40         1          0.0      0.0      0.0      emi_hat = np.zeros((Ncol, Nlin), dtype=np.complex64)\n",
      "    41         1          0.0      0.0      0.0      kern = [] # np.zeros((Nc * (dk[0] * 2 + 1) * (dk[1] * 2 + 1), Ngrp))\n",
      "    42                                           \n",
      "    43        80          0.0      0.0      0.0      for cwin, pe_rng in enumerate(line_grps):\n",
      "    44                                                   # pe_rng is the range of lines in the current group\n",
      "    45        79          8.4      0.1     25.5          noise_mat = get_noise_mtx(sniffer[:, pe_rng, :], dk)\n",
      "    46                                           \n",
      "    47                                                   # Select grouped lines and flatten for inversion\n",
      "    48        79          0.1      0.0      0.2          init_mat_sub = np.reshape(signal_in[:, pe_rng], (Ncol * len(pe_rng), 1))\n",
      "    49        79          0.1      0.0      0.4          ww = np.reshape(w[:, pe_rng], (Ncol * len(pe_rng), 1))\n",
      "    50                                                   \n",
      "    51                                                   # Solving the linear system\n",
      "    52        79         22.8      0.3     69.8          kern_ ,_,_,_ = sp.linalg.lstsq(ww * noise_mat, ww * init_mat_sub, cond=None, check_finite=False)\n",
      "    53        79          0.0      0.0      0.0          kern.append(kern_)\n",
      "    54                                                   # Put the solution back\n",
      "    55        79          1.3      0.0      4.0          emi_hat[:, pe_rng] = np.reshape(np.dot(noise_mat, kern_), (Ncol, len(pe_rng)))\n",
      "    56                                           \n",
      "    57         1          0.0      0.0      0.0      return emi_hat"
     ]
    }
   ],
   "source": [
    "%load_ext line_profiler\n",
    "%lprun -u 1 -f est_emi apply_editer(ksp_measured[:, :, 0], ksp_sniffer, editer_params, w)"
   ]
  },
  {
   "cell_type": "code",
   "execution_count": 58,
   "metadata": {},
   "outputs": [
    {
     "data": {
      "text/plain": [
       "[<matplotlib.lines.Line2D at 0x7fb980b853f0>]"
      ]
     },
     "execution_count": 58,
     "metadata": {},
     "output_type": "execute_result"
    },
    {
     "data": {
      "image/png": "[encoded data removed]",
      "text/plain": [
       "<Figure size 640x480 with 1 Axes>"
      ]
     },
     "metadata": {},
     "output_type": "display_data"
    }
   ],
   "source": [
    "import pilottone as pt\n",
    "plt.figure()\n",
    "plt.plot(np.abs(pt.to_hybrid_kspace(ksp_measured[pre_discard:,0,0])))\n",
    "plt.plot(np.abs(pt.to_hybrid_kspace(ksp_emicorr[pre_discard:,0,0])))"
   ]
  },
  {
   "cell_type": "code",
   "execution_count": 38,
   "metadata": {},
   "outputs": [],
   "source": [
    "removeOS = True\n",
    "Nsamp = ksp_emicorr.shape[0]\n",
    "if removeOS:\n",
    "    keepOS = np.concatenate([np.arange(Nsamp // 4), np.arange(Nsamp * 3 // 4, Nsamp)])\n",
    "    ksp_emicorr = ifft(ksp_emicorr, axis=0)\n",
    "    ksp_emicorr = fft(ksp_emicorr[keepOS, :, :], axis=0)\n",
    "    Nsamp = Nsamp // 2"
   ]
  }
 ],
 "metadata": {
  "kernelspec": {
   "display_name": "pilottone",
   "language": "python",
   "name": "python3"
  },
  "language_info": {
   "codemirror_mode": {
    "name": "ipython",
    "version": 3
   },
   "file_extension": ".py",
   "mimetype": "text/x-python",
   "name": "python",
   "nbconvert_exporter": "python",
   "pygments_lexer": "ipython3",
   "version": "3.10.13"
  }
 },
 "nbformat": 4,
 "nbformat_minor": 2
}
